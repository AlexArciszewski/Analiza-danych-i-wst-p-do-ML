{
 "cells": [
  {
   "cell_type": "code",
   "execution_count": null,
   "id": "c79c748c-935b-4f7c-8473-fc85c93333c9",
   "metadata": {},
   "outputs": [],
   "source": [
    "# Pierwszy samodzielny model LinearRegression do rozwiazania zadania klasyfikacji próbek"
   ]
  },
  {
   "cell_type": "code",
   "execution_count": null,
   "id": "8ba86450-e84b-4c25-bfd2-ef55685d8fc2",
   "metadata": {},
   "outputs": [],
   "source": [
    "# 1 import bibliotek"
   ]
  },
  {
   "cell_type": "code",
   "execution_count": 1,
   "id": "62987f96-5a69-40d4-a51d-0162a90400eb",
   "metadata": {},
   "outputs": [],
   "source": [
    "import pandas as pd\n",
    "import matplotlib.pyplot as plt\n",
    "%matplotlib inline"
   ]
  },
  {
   "cell_type": "code",
   "execution_count": null,
   "id": "602b3e76-9c46-4231-a274-cf03ca052dac",
   "metadata": {},
   "outputs": [],
   "source": [
    "#  2 ladowanie danych header =None bo bez nagłowka wiec names tworze listy nazw kolumn"
   ]
  },
  {
   "cell_type": "code",
   "execution_count": 2,
   "id": "530b71c6-86a4-4209-aeb8-f238da90a5c5",
   "metadata": {},
   "outputs": [],
   "source": [
    "iris = pd.read_csv(r\"C:\\Dane\\2_ML_Projekty\\004_ML kurs 001 regresja bazy\\iris\\iris.data\",\n",
    "                   header = None, \n",
    "                   names = ['petal length', 'petal width', \n",
    "                            'sepal length', 'sepal width', 'species'])"
   ]
  },
  {
   "cell_type": "code",
   "execution_count": 3,
   "id": "bffc501b-d043-475c-a959-33d399b05346",
   "metadata": {},
   "outputs": [
    {
     "data": {
      "text/html": [
       "<div>\n",
       "<style scoped>\n",
       "    .dataframe tbody tr th:only-of-type {\n",
       "        vertical-align: middle;\n",
       "    }\n",
       "\n",
       "    .dataframe tbody tr th {\n",
       "        vertical-align: top;\n",
       "    }\n",
       "\n",
       "    .dataframe thead th {\n",
       "        text-align: right;\n",
       "    }\n",
       "</style>\n",
       "<table border=\"1\" class=\"dataframe\">\n",
       "  <thead>\n",
       "    <tr style=\"text-align: right;\">\n",
       "      <th></th>\n",
       "      <th>petal length</th>\n",
       "      <th>petal width</th>\n",
       "      <th>sepal length</th>\n",
       "      <th>sepal width</th>\n",
       "      <th>species</th>\n",
       "    </tr>\n",
       "  </thead>\n",
       "  <tbody>\n",
       "    <tr>\n",
       "      <th>0</th>\n",
       "      <td>5.1</td>\n",
       "      <td>3.5</td>\n",
       "      <td>1.4</td>\n",
       "      <td>0.2</td>\n",
       "      <td>Iris-setosa</td>\n",
       "    </tr>\n",
       "    <tr>\n",
       "      <th>1</th>\n",
       "      <td>4.9</td>\n",
       "      <td>3.0</td>\n",
       "      <td>1.4</td>\n",
       "      <td>0.2</td>\n",
       "      <td>Iris-setosa</td>\n",
       "    </tr>\n",
       "    <tr>\n",
       "      <th>2</th>\n",
       "      <td>4.7</td>\n",
       "      <td>3.2</td>\n",
       "      <td>1.3</td>\n",
       "      <td>0.2</td>\n",
       "      <td>Iris-setosa</td>\n",
       "    </tr>\n",
       "    <tr>\n",
       "      <th>3</th>\n",
       "      <td>4.6</td>\n",
       "      <td>3.1</td>\n",
       "      <td>1.5</td>\n",
       "      <td>0.2</td>\n",
       "      <td>Iris-setosa</td>\n",
       "    </tr>\n",
       "    <tr>\n",
       "      <th>4</th>\n",
       "      <td>5.0</td>\n",
       "      <td>3.6</td>\n",
       "      <td>1.4</td>\n",
       "      <td>0.2</td>\n",
       "      <td>Iris-setosa</td>\n",
       "    </tr>\n",
       "  </tbody>\n",
       "</table>\n",
       "</div>"
      ],
      "text/plain": [
       "   petal length  petal width  sepal length  sepal width      species\n",
       "0           5.1          3.5           1.4          0.2  Iris-setosa\n",
       "1           4.9          3.0           1.4          0.2  Iris-setosa\n",
       "2           4.7          3.2           1.3          0.2  Iris-setosa\n",
       "3           4.6          3.1           1.5          0.2  Iris-setosa\n",
       "4           5.0          3.6           1.4          0.2  Iris-setosa"
      ]
     },
     "execution_count": 3,
     "metadata": {},
     "output_type": "execute_result"
    }
   ],
   "source": [
    "iris.head()"
   ]
  },
  {
   "cell_type": "code",
   "execution_count": null,
   "id": "61b30f0d-50a4-4e6f-b87a-305b56dbdc83",
   "metadata": {},
   "outputs": [],
   "source": [
    "# 3 import regresji liniowej "
   ]
  },
  {
   "cell_type": "code",
   "execution_count": 6,
   "id": "276f7f55-ed14-4277-8258-da7a03ee7871",
   "metadata": {},
   "outputs": [],
   "source": [
    "from sklearn.linear_model import LinearRegression"
   ]
  },
  {
   "cell_type": "code",
   "execution_count": null,
   "id": "9fda4a1a-c982-47fc-abca-328e7bf71ba6",
   "metadata": {},
   "outputs": [],
   "source": []
  },
  {
   "cell_type": "code",
   "execution_count": null,
   "id": "454277bf-d937-464e-beac-759d3d944aa8",
   "metadata": {},
   "outputs": [],
   "source": [
    "# Podział danych na features X i labels Y"
   ]
  },
  {
   "cell_type": "code",
   "execution_count": 8,
   "id": "22361c70-cad0-4f4f-b2b8-5f489906b384",
   "metadata": {},
   "outputs": [],
   "source": [
    "X = iris.iloc[:,:4]\n",
    "y = iris.loc[:,'species']"
   ]
  },
  {
   "cell_type": "code",
   "execution_count": null,
   "id": "fadb6e81-5768-449f-ab76-dfc62b05692d",
   "metadata": {},
   "outputs": [],
   "source": []
  },
  {
   "cell_type": "code",
   "execution_count": null,
   "id": "edbaa6d2-b322-4f18-90b4-8997952da24b",
   "metadata": {},
   "outputs": [],
   "source": [
    "# Słownik pozwalający na kolorowanie punktów diagramu>Dane dzielimy na znane cechy probki i oznaczamy X duże"
   ]
  },
  {
   "cell_type": "code",
   "execution_count": null,
   "id": "8ee2f8b0-ca31-4e84-9752-a3976159c5ef",
   "metadata": {},
   "outputs": [],
   "source": [
    "# Dane w zbiorze iris w 4 pierwszych kolumnach zawierając echy próbek a kolumnie species znajdujasie nazwy \n",
    "# przypisane kwiatom nazwy gatunku"
   ]
  },
  {
   "cell_type": "code",
   "execution_count": 9,
   "id": "c2010631-0ba1-4867-a8e4-18956712aa95",
   "metadata": {},
   "outputs": [],
   "source": [
    "categories = {'Iris-setosa':1, 'Iris-versicolor':2, 'Iris-virginica':3}\n",
    "y = y.apply(lambda x: categories[x])\n"
   ]
  },
  {
   "cell_type": "code",
   "execution_count": null,
   "id": "c3edc0aa-0c65-47b8-a6e4-44b183bedf01",
   "metadata": {},
   "outputs": [],
   "source": [
    "# przypisujemy poszczególnym gatunkom numery bo algorytmy pracują na danych numerycznych a nazwa gatunku to \n",
    "# string dlatego gatunkom przypisujemy numery"
   ]
  },
  {
   "cell_type": "code",
   "execution_count": null,
   "id": "13dbf104-a57c-47d8-b02c-2424a599fd98",
   "metadata": {},
   "outputs": [],
   "source": [
    "# albo tak X_train za y przypisujemy etykiety tym próbkom W przypadku danych uczacych te etykiety są znane.\n",
    "# Dla danych których nie znamy etykiete musi odganac model"
   ]
  },
  {
   "cell_type": "code",
   "execution_count": 11,
   "id": "9a540956-2b4a-4931-b000-c1cf68f322d7",
   "metadata": {},
   "outputs": [
    {
     "data": {
      "text/plain": [
       "0    1\n",
       "1    1\n",
       "2    1\n",
       "3    1\n",
       "4    1\n",
       "Name: species, dtype: int64"
      ]
     },
     "execution_count": 11,
     "metadata": {},
     "output_type": "execute_result"
    }
   ],
   "source": [
    "X.head()\n",
    "y.head()"
   ]
  },
  {
   "cell_type": "code",
   "execution_count": null,
   "id": "a5a0dd65-8117-4fbc-9add-c83b9c39ac4d",
   "metadata": {},
   "outputs": [],
   "source": [
    "# Funkcja apply wywołana na rzecz danych Y czyli etykiet gdzie sa zapisany nazwy poszczególnych kwiatów. zwraca dla nazwy kwiatu numer który przyporzadkowaliśmy do tego gatunku."
   ]
  },
  {
   "cell_type": "code",
   "execution_count": null,
   "id": "d0419d4f-7701-4041-90cc-7efdee08991d",
   "metadata": {},
   "outputs": [],
   "source": [
    "# Sprawdzamy nagłówki dla X i y"
   ]
  },
  {
   "cell_type": "code",
   "execution_count": 12,
   "id": "539f9f1f-6f0a-473f-a6b0-cb8b1bc354a5",
   "metadata": {},
   "outputs": [
    {
     "data": {
      "text/plain": [
       "0    1\n",
       "1    1\n",
       "2    1\n",
       "3    1\n",
       "4    1\n",
       "Name: species, dtype: int64"
      ]
     },
     "execution_count": 12,
     "metadata": {},
     "output_type": "execute_result"
    }
   ],
   "source": [
    "X.head()\n",
    "y.head()"
   ]
  },
  {
   "cell_type": "code",
   "execution_count": null,
   "id": "7803127b-58e7-47ab-89c3-569a5b15a7bb",
   "metadata": {},
   "outputs": [],
   "source": [
    "# Tworzymy model i przy użyciu funkcji fit uczymy rozmpoznawania kwiatów  przekazując zbiór 150 probek cech X i etykiet y\n",
    "# Ostatnia linia jest opcjonalna ma za zadanie sprawdzić jak trafny jest nasz model i podac wynik"
   ]
  },
  {
   "cell_type": "code",
   "execution_count": 13,
   "id": "c0a612df-8e20-4eb1-9194-be62a6f5a7a1",
   "metadata": {},
   "outputs": [
    {
     "data": {
      "text/plain": [
       "0.9304223675331595"
      ]
     },
     "execution_count": 13,
     "metadata": {},
     "output_type": "execute_result"
    }
   ],
   "source": [
    "lr = LinearRegression()\n",
    "lr.fit(X,y)\n",
    "lr.score(X,y)"
   ]
  },
  {
   "cell_type": "code",
   "execution_count": null,
   "id": "00140b51-6f14-4271-b52a-6b6f3bba6665",
   "metadata": {},
   "outputs": [],
   "source": [
    "# Im wyższa wartośc bliżej 100 tym lepiej"
   ]
  },
  {
   "cell_type": "code",
   "execution_count": null,
   "id": "c0bb606c-ff22-4299-a8fe-3376a09f9a5d",
   "metadata": {},
   "outputs": [],
   "source": [
    "# Wykorzystanie modelu: Tworzymy probki opisujące trzy niby kwiaty"
   ]
  },
  {
   "cell_type": "code",
   "execution_count": 15,
   "id": "ee86af47-e7eb-4bc9-be7b-7e753a4a2ab9",
   "metadata": {},
   "outputs": [],
   "source": [
    "iris_1 = [5, 3.5, 1.4, 0.2]\n",
    "iris_2 = [6.4, 3, 4.5, 1]\n",
    "iris_3 = [1, 2, 3, 2]\n",
    "other = [1, 2, 3, 4]\n",
    "flowers = [iris_1, iris_2, iris_3, other]"
   ]
  },
  {
   "cell_type": "code",
   "execution_count": null,
   "id": "90a7918b-53a8-4153-96b5-ffc8bb1925c6",
   "metadata": {},
   "outputs": [],
   "source": [
    "# Zapisujemy próbki w liscie i wywołujemy metode predict dla modelu"
   ]
  },
  {
   "cell_type": "code",
   "execution_count": 16,
   "id": "eaa3b4c0-12ab-49d1-90fa-ddf83050ceed",
   "metadata": {},
   "outputs": [
    {
     "name": "stdout",
     "output_type": "stream",
     "text": [
      "[0.92831587 1.98841763 2.89465402 4.11444226]\n"
     ]
    },
    {
     "name": "stderr",
     "output_type": "stream",
     "text": [
      "C:\\Anaconda\\Lib\\site-packages\\sklearn\\base.py:439: UserWarning: X does not have valid feature names, but LinearRegression was fitted with feature names\n",
      "  warnings.warn(\n"
     ]
    }
   ],
   "source": [
    "species_predict =lr.predict(flowers)\n",
    "print(species_predict)"
   ]
  },
  {
   "cell_type": "code",
   "execution_count": null,
   "id": "28ae30ee-bd69-45df-aea2-c5f830dd8e5b",
   "metadata": {},
   "outputs": [],
   "source": [
    "# Otrzymujemy wynik w psotaci liczb float. Model regresji liniowych zktórym rpacujemy służy do \n",
    "# wykrywania wartości ciągłych a nie dyskretnych. Wartości dyskretne to 1,2,3 a ciągle to floaty które wyszły"
   ]
  },
  {
   "cell_type": "code",
   "execution_count": null,
   "id": "334f3773-1d21-4985-8ebd-e1782d2903cf",
   "metadata": {},
   "outputs": [],
   "source": [
    "# Abu dowiedziec się do jakiego gatunku należy każdy kwiat trzeba zaokrąglić wartości używając petli for"
   ]
  },
  {
   "cell_type": "code",
   "execution_count": 17,
   "id": "e565f574-9540-47b0-acb7-6126ef604e1f",
   "metadata": {},
   "outputs": [
    {
     "name": "stdout",
     "output_type": "stream",
     "text": [
      "Flower [5, 3.5, 1.4, 0.2] is iris-setosa\n",
      "Flower [6.4, 3, 4.5, 1] is iris-versicolor\n",
      "Flower [1, 2, 3, 2] is iris-virginica\n",
      "Flower [1, 2, 3, 4] is UNKNOWN\n"
     ]
    }
   ],
   "source": [
    "for f,s in zip(flowers, species_predict):\n",
    "    if round(s) == 1:\n",
    "        print('Flower {} is {}'.format(f, 'iris-setosa'))\n",
    "    elif round(s) == 2:\n",
    "        print('Flower {} is {}'.format(f, 'iris-versicolor'))\n",
    "    elif round(s) == 3:\n",
    "        print('Flower {} is {}'.format(f, 'iris-virginica'))\n",
    "    else:\n",
    "        print('Flower {} is {}'.format(f,'UNKNOWN'))\n",
    "        \n",
    "        "
   ]
  },
  {
   "cell_type": "code",
   "execution_count": null,
   "id": "4132db4b-1368-49b7-9960-833dc3833094",
   "metadata": {},
   "outputs": [],
   "source": []
  },
  {
   "cell_type": "code",
   "execution_count": null,
   "id": "4a0e71e4-3fe4-4d77-8605-4a485cf4010e",
   "metadata": {},
   "outputs": [],
   "source": []
  },
  {
   "cell_type": "code",
   "execution_count": null,
   "id": "aeb00a01-d8d8-44f7-b0d8-4a2df93bd466",
   "metadata": {},
   "outputs": [],
   "source": []
  },
  {
   "cell_type": "code",
   "execution_count": null,
   "id": "39c7e8b7-3834-41dd-a214-070de0a73584",
   "metadata": {},
   "outputs": [],
   "source": []
  },
  {
   "cell_type": "code",
   "execution_count": null,
   "id": "6e9cfe79-c472-4af9-8fed-eadced39dd2b",
   "metadata": {},
   "outputs": [],
   "source": []
  }
 ],
 "metadata": {
  "kernelspec": {
   "display_name": "Python 3 (ipykernel)",
   "language": "python",
   "name": "python3"
  },
  "language_info": {
   "codemirror_mode": {
    "name": "ipython",
    "version": 3
   },
   "file_extension": ".py",
   "mimetype": "text/x-python",
   "name": "python",
   "nbconvert_exporter": "python",
   "pygments_lexer": "ipython3",
   "version": "3.11.7"
  }
 },
 "nbformat": 4,
 "nbformat_minor": 5
}
