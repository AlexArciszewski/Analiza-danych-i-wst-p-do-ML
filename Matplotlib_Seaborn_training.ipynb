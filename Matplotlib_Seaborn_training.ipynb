{
 "cells": [
  {
   "cell_type": "code",
   "execution_count": 23,
   "id": "1c71dc21-2fa7-48b3-9e0e-d6a979a1604a",
   "metadata": {},
   "outputs": [],
   "source": [
    "import matplotlib.pyplot as plt\n",
    "import pandas as pd\n",
    "import numpy as np"
   ]
  },
  {
   "cell_type": "code",
   "execution_count": null,
   "id": "31182db6-200a-4bae-87c2-9f66ff241089",
   "metadata": {},
   "outputs": [],
   "source": []
  },
  {
   "cell_type": "code",
   "execution_count": 3,
   "id": "8f55323d-72be-40b1-bc5b-71dbccc0a1cf",
   "metadata": {},
   "outputs": [],
   "source": [
    "df=pd.read_csv('C:/Dane/2_ML_Projekty/003_programowanie_ML_zadanka_kurs_wprowadzenie/Moduł 3/Zbiory danych/data_csv.csv')"
   ]
  },
  {
   "cell_type": "code",
   "execution_count": 4,
   "id": "869b9783-ddbe-4845-b475-03692324bd8d",
   "metadata": {},
   "outputs": [
    {
     "data": {
      "text/html": [
       "<div>\n",
       "<style scoped>\n",
       "    .dataframe tbody tr th:only-of-type {\n",
       "        vertical-align: middle;\n",
       "    }\n",
       "\n",
       "    .dataframe tbody tr th {\n",
       "        vertical-align: top;\n",
       "    }\n",
       "\n",
       "    .dataframe thead th {\n",
       "        text-align: right;\n",
       "    }\n",
       "</style>\n",
       "<table border=\"1\" class=\"dataframe\">\n",
       "  <thead>\n",
       "    <tr style=\"text-align: right;\">\n",
       "      <th></th>\n",
       "      <th>Date</th>\n",
       "      <th>SP500</th>\n",
       "      <th>Dividend</th>\n",
       "      <th>Earnings</th>\n",
       "      <th>Consumer Price Index</th>\n",
       "      <th>Long Interest Rate</th>\n",
       "      <th>Real Price</th>\n",
       "      <th>Real Dividend</th>\n",
       "      <th>Real Earnings</th>\n",
       "      <th>PE10</th>\n",
       "    </tr>\n",
       "  </thead>\n",
       "  <tbody>\n",
       "    <tr>\n",
       "      <th>0</th>\n",
       "      <td>1871-01-01</td>\n",
       "      <td>4.44</td>\n",
       "      <td>0.26</td>\n",
       "      <td>0.4</td>\n",
       "      <td>12.46</td>\n",
       "      <td>5.32</td>\n",
       "      <td>89.00</td>\n",
       "      <td>5.21</td>\n",
       "      <td>8.02</td>\n",
       "      <td>NaN</td>\n",
       "    </tr>\n",
       "    <tr>\n",
       "      <th>1</th>\n",
       "      <td>1871-02-01</td>\n",
       "      <td>4.50</td>\n",
       "      <td>0.26</td>\n",
       "      <td>0.4</td>\n",
       "      <td>12.84</td>\n",
       "      <td>5.32</td>\n",
       "      <td>87.53</td>\n",
       "      <td>5.06</td>\n",
       "      <td>7.78</td>\n",
       "      <td>NaN</td>\n",
       "    </tr>\n",
       "    <tr>\n",
       "      <th>2</th>\n",
       "      <td>1871-03-01</td>\n",
       "      <td>4.61</td>\n",
       "      <td>0.26</td>\n",
       "      <td>0.4</td>\n",
       "      <td>13.03</td>\n",
       "      <td>5.33</td>\n",
       "      <td>88.36</td>\n",
       "      <td>4.98</td>\n",
       "      <td>7.67</td>\n",
       "      <td>NaN</td>\n",
       "    </tr>\n",
       "    <tr>\n",
       "      <th>3</th>\n",
       "      <td>1871-04-01</td>\n",
       "      <td>4.74</td>\n",
       "      <td>0.26</td>\n",
       "      <td>0.4</td>\n",
       "      <td>12.56</td>\n",
       "      <td>5.33</td>\n",
       "      <td>94.29</td>\n",
       "      <td>5.17</td>\n",
       "      <td>7.96</td>\n",
       "      <td>NaN</td>\n",
       "    </tr>\n",
       "    <tr>\n",
       "      <th>4</th>\n",
       "      <td>1871-05-01</td>\n",
       "      <td>4.86</td>\n",
       "      <td>0.26</td>\n",
       "      <td>0.4</td>\n",
       "      <td>12.27</td>\n",
       "      <td>5.33</td>\n",
       "      <td>98.93</td>\n",
       "      <td>5.29</td>\n",
       "      <td>8.14</td>\n",
       "      <td>NaN</td>\n",
       "    </tr>\n",
       "  </tbody>\n",
       "</table>\n",
       "</div>"
      ],
      "text/plain": [
       "         Date  SP500  Dividend  Earnings  Consumer Price Index  \\\n",
       "0  1871-01-01   4.44      0.26       0.4                 12.46   \n",
       "1  1871-02-01   4.50      0.26       0.4                 12.84   \n",
       "2  1871-03-01   4.61      0.26       0.4                 13.03   \n",
       "3  1871-04-01   4.74      0.26       0.4                 12.56   \n",
       "4  1871-05-01   4.86      0.26       0.4                 12.27   \n",
       "\n",
       "   Long Interest Rate  Real Price  Real Dividend  Real Earnings  PE10  \n",
       "0                5.32       89.00           5.21           8.02   NaN  \n",
       "1                5.32       87.53           5.06           7.78   NaN  \n",
       "2                5.33       88.36           4.98           7.67   NaN  \n",
       "3                5.33       94.29           5.17           7.96   NaN  \n",
       "4                5.33       98.93           5.29           8.14   NaN  "
      ]
     },
     "execution_count": 4,
     "metadata": {},
     "output_type": "execute_result"
    }
   ],
   "source": [
    "df.head()"
   ]
  },
  {
   "cell_type": "code",
   "execution_count": null,
   "id": "dc79fca0-ae8a-40d4-93bb-cdda99ee85b4",
   "metadata": {},
   "outputs": [],
   "source": [
    "# Sprawdzanie typu danych"
   ]
  },
  {
   "cell_type": "code",
   "execution_count": 7,
   "id": "e83461bb-364a-48e8-8509-2a3b57aa8214",
   "metadata": {},
   "outputs": [
    {
     "name": "stdout",
     "output_type": "stream",
     "text": [
      "<class 'pandas.core.frame.DataFrame'>\n",
      "RangeIndex: 1768 entries, 0 to 1767\n",
      "Data columns (total 10 columns):\n",
      " #   Column                Non-Null Count  Dtype  \n",
      "---  ------                --------------  -----  \n",
      " 0   Date                  1768 non-null   object \n",
      " 1   SP500                 1768 non-null   float64\n",
      " 2   Dividend              1767 non-null   float64\n",
      " 3   Earnings              1764 non-null   float64\n",
      " 4   Consumer Price Index  1768 non-null   float64\n",
      " 5   Long Interest Rate    1768 non-null   float64\n",
      " 6   Real Price            1768 non-null   float64\n",
      " 7   Real Dividend         1767 non-null   float64\n",
      " 8   Real Earnings         1764 non-null   float64\n",
      " 9   PE10                  1648 non-null   float64\n",
      "dtypes: float64(9), object(1)\n",
      "memory usage: 138.3+ KB\n"
     ]
    }
   ],
   "source": [
    "df.info()"
   ]
  },
  {
   "cell_type": "code",
   "execution_count": null,
   "id": "ab6e03f9-7392-4ab3-b18c-d5a8350e61b9",
   "metadata": {},
   "outputs": [],
   "source": [
    "# data typu obj"
   ]
  },
  {
   "cell_type": "code",
   "execution_count": 8,
   "id": "fe351169-1205-4a03-8667-defa74564efc",
   "metadata": {},
   "outputs": [],
   "source": [
    "df['Date'] =pd.to_datetime(df['Date'])"
   ]
  },
  {
   "cell_type": "code",
   "execution_count": 9,
   "id": "d8b6fa7f-197d-4800-8711-f16f7a1615cb",
   "metadata": {},
   "outputs": [
    {
     "name": "stdout",
     "output_type": "stream",
     "text": [
      "<class 'pandas.core.frame.DataFrame'>\n",
      "RangeIndex: 1768 entries, 0 to 1767\n",
      "Data columns (total 10 columns):\n",
      " #   Column                Non-Null Count  Dtype         \n",
      "---  ------                --------------  -----         \n",
      " 0   Date                  1768 non-null   datetime64[ns]\n",
      " 1   SP500                 1768 non-null   float64       \n",
      " 2   Dividend              1767 non-null   float64       \n",
      " 3   Earnings              1764 non-null   float64       \n",
      " 4   Consumer Price Index  1768 non-null   float64       \n",
      " 5   Long Interest Rate    1768 non-null   float64       \n",
      " 6   Real Price            1768 non-null   float64       \n",
      " 7   Real Dividend         1767 non-null   float64       \n",
      " 8   Real Earnings         1764 non-null   float64       \n",
      " 9   PE10                  1648 non-null   float64       \n",
      "dtypes: datetime64[ns](1), float64(9)\n",
      "memory usage: 138.3 KB\n"
     ]
    }
   ],
   "source": [
    "df.info()"
   ]
  },
  {
   "cell_type": "code",
   "execution_count": null,
   "id": "51699d53-1d56-4f73-92d4-332ea0e65ae7",
   "metadata": {},
   "outputs": [],
   "source": [
    "# Data zmieniła format"
   ]
  },
  {
   "cell_type": "code",
   "execution_count": null,
   "id": "cf79acaf-f99e-40c8-8d20-ee11d9264456",
   "metadata": {},
   "outputs": [],
   "source": [
    "# 1.Wykres liniowy jak wartości SP500 zmienią się w czasie"
   ]
  },
  {
   "cell_type": "code",
   "execution_count": 10,
   "id": "568da241-187e-49d0-8e3e-dac4c39bcc29",
   "metadata": {},
   "outputs": [
    {
     "data": {
      "image/png": "[encoded data removed]",
      "text/plain": [
       "<Figure size 640x480 with 1 Axes>"
      ]
     },
     "metadata": {},
     "output_type": "display_data"
    }
   ],
   "source": [
    "plt.plot(df['Date'], df['SP500'])\n",
    "plt.show()"
   ]
  },
  {
   "cell_type": "code",
   "execution_count": null,
   "id": "79d38677-2bd8-4790-93de-998dc5a738a6",
   "metadata": {},
   "outputs": [],
   "source": [
    "# 2. Wykres słupkowy z danych treningowych biblioteki seaborn"
   ]
  },
  {
   "cell_type": "code",
   "execution_count": 21,
   "id": "16f31623-95b8-48a2-8f99-d0e99d0dd583",
   "metadata": {},
   "outputs": [],
   "source": [
    "import seaborn as sns"
   ]
  },
  {
   "cell_type": "code",
   "execution_count": 22,
   "id": "ae38f52b-3460-4a9c-bddf-886e571b0c57",
   "metadata": {},
   "outputs": [
    {
     "data": {
      "text/html": [
       "<div>\n",
       "<style scoped>\n",
       "    .dataframe tbody tr th:only-of-type {\n",
       "        vertical-align: middle;\n",
       "    }\n",
       "\n",
       "    .dataframe tbody tr th {\n",
       "        vertical-align: top;\n",
       "    }\n",
       "\n",
       "    .dataframe thead th {\n",
       "        text-align: right;\n",
       "    }\n",
       "</style>\n",
       "<table border=\"1\" class=\"dataframe\">\n",
       "  <thead>\n",
       "    <tr style=\"text-align: right;\">\n",
       "      <th></th>\n",
       "      <th>total_bill</th>\n",
       "      <th>tip</th>\n",
       "      <th>sex</th>\n",
       "      <th>smoker</th>\n",
       "      <th>day</th>\n",
       "      <th>time</th>\n",
       "      <th>size</th>\n",
       "    </tr>\n",
       "  </thead>\n",
       "  <tbody>\n",
       "    <tr>\n",
       "      <th>0</th>\n",
       "      <td>16.99</td>\n",
       "      <td>1.01</td>\n",
       "      <td>Female</td>\n",
       "      <td>No</td>\n",
       "      <td>Sun</td>\n",
       "      <td>Dinner</td>\n",
       "      <td>2</td>\n",
       "    </tr>\n",
       "    <tr>\n",
       "      <th>1</th>\n",
       "      <td>10.34</td>\n",
       "      <td>1.66</td>\n",
       "      <td>Male</td>\n",
       "      <td>No</td>\n",
       "      <td>Sun</td>\n",
       "      <td>Dinner</td>\n",
       "      <td>3</td>\n",
       "    </tr>\n",
       "    <tr>\n",
       "      <th>2</th>\n",
       "      <td>21.01</td>\n",
       "      <td>3.50</td>\n",
       "      <td>Male</td>\n",
       "      <td>No</td>\n",
       "      <td>Sun</td>\n",
       "      <td>Dinner</td>\n",
       "      <td>3</td>\n",
       "    </tr>\n",
       "    <tr>\n",
       "      <th>3</th>\n",
       "      <td>23.68</td>\n",
       "      <td>3.31</td>\n",
       "      <td>Male</td>\n",
       "      <td>No</td>\n",
       "      <td>Sun</td>\n",
       "      <td>Dinner</td>\n",
       "      <td>2</td>\n",
       "    </tr>\n",
       "    <tr>\n",
       "      <th>4</th>\n",
       "      <td>24.59</td>\n",
       "      <td>3.61</td>\n",
       "      <td>Female</td>\n",
       "      <td>No</td>\n",
       "      <td>Sun</td>\n",
       "      <td>Dinner</td>\n",
       "      <td>4</td>\n",
       "    </tr>\n",
       "  </tbody>\n",
       "</table>\n",
       "</div>"
      ],
      "text/plain": [
       "   total_bill   tip     sex smoker  day    time  size\n",
       "0       16.99  1.01  Female     No  Sun  Dinner     2\n",
       "1       10.34  1.66    Male     No  Sun  Dinner     3\n",
       "2       21.01  3.50    Male     No  Sun  Dinner     3\n",
       "3       23.68  3.31    Male     No  Sun  Dinner     2\n",
       "4       24.59  3.61  Female     No  Sun  Dinner     4"
      ]
     },
     "execution_count": 22,
     "metadata": {},
     "output_type": "execute_result"
    }
   ],
   "source": [
    "df = sns.load_dataset('tips')\n",
    "df.head()"
   ]
  },
  {
   "cell_type": "code",
   "execution_count": null,
   "id": "781a6afe-31fb-4d70-b44a-6ad2277195f6",
   "metadata": {},
   "outputs": [],
   "source": [
    "# pierwszy argument to co na osi X czyli podgrupy do wyliczenia miary a drugi argument miara odpowiadająca poszczeólnym podgrupom"
   ]
  },
  {
   "cell_type": "code",
   "execution_count": null,
   "id": "be65a3d8-e19e-4cb6-89cd-0a3317c7f079",
   "metadata": {},
   "outputs": [],
   "source": [
    "# zliczamy liczbę klientów w dniu (day)"
   ]
  },
  {
   "cell_type": "code",
   "execution_count": 8,
   "id": "f3ac6eed-3f3e-4c9f-a5b3-ded24c50e572",
   "metadata": {},
   "outputs": [
    {
     "data": {
      "text/plain": [
       "day\n",
       "Sat     87\n",
       "Sun     76\n",
       "Thur    62\n",
       "Fri     19\n",
       "Name: count, dtype: int64"
      ]
     },
     "execution_count": 8,
     "metadata": {},
     "output_type": "execute_result"
    }
   ],
   "source": [
    "df['day'].value_counts()"
   ]
  },
  {
   "cell_type": "code",
   "execution_count": null,
   "id": "c9f9a447-d941-4a9d-8082-508a20537731",
   "metadata": {},
   "outputs": [],
   "source": [
    "# teraz wyciągamy etykiety za pomoca metody index"
   ]
  },
  {
   "cell_type": "code",
   "execution_count": 9,
   "id": "1c92bbf3-274d-4841-bfcb-185e2bea3832",
   "metadata": {},
   "outputs": [
    {
     "data": {
      "text/plain": [
       "CategoricalIndex(['Sat', 'Sun', 'Thur', 'Fri'], categories=['Thur', 'Fri', 'Sat', 'Sun'], ordered=False, dtype='category', name='day')"
      ]
     },
     "execution_count": 9,
     "metadata": {},
     "output_type": "execute_result"
    }
   ],
   "source": [
    "df['day'].value_counts().index"
   ]
  },
  {
   "cell_type": "code",
   "execution_count": null,
   "id": "b5f0a2f4-762e-4576-8e6a-477da135252c",
   "metadata": {},
   "outputs": [],
   "source": [
    "# To będa nasze dwie wartości..Y oraz X"
   ]
  },
  {
   "cell_type": "code",
   "execution_count": 19,
   "id": "e118bb6d-563b-4a1b-a05b-05290ccc3eaf",
   "metadata": {},
   "outputs": [
    {
     "data": {
      "image/png": "[encoded data removed]",
      "text/plain": [
       "<Figure size 640x480 with 1 Axes>"
      ]
     },
     "metadata": {},
     "output_type": "display_data"
    }
   ],
   "source": [
    "plt.bar(df['day'].value_counts().index, df['day'].value_counts())\n",
    "plt.show()"
   ]
  },
  {
   "cell_type": "code",
   "execution_count": null,
   "id": "7228023a-8bce-4f18-98b6-059822ac3d5d",
   "metadata": {},
   "outputs": [],
   "source": [
    "# Sprawdzamy jaki średni napiwek dają mężczyźni a jaki kobiety. grupujemy wyniki ze względu na płeć i wyliczy wartosć napiwku..."
   ]
  },
  {
   "cell_type": "code",
   "execution_count": 24,
   "id": "db90da58-87d7-442e-9a1c-5bbad9096148",
   "metadata": {},
   "outputs": [
    {
     "name": "stderr",
     "output_type": "stream",
     "text": [
      "C:\\Users\\arcis\\AppData\\Local\\Temp\\ipykernel_2312\\4053845762.py:1: FutureWarning: The default of observed=False is deprecated and will be changed to True in a future version of pandas. Pass observed=False to retain current behavior or observed=True to adopt the future default and silence this warning.\n",
      "  df.groupby('sex').agg({'tip':'mean'})\n"
     ]
    },
    {
     "data": {
      "text/html": [
       "<div>\n",
       "<style scoped>\n",
       "    .dataframe tbody tr th:only-of-type {\n",
       "        vertical-align: middle;\n",
       "    }\n",
       "\n",
       "    .dataframe tbody tr th {\n",
       "        vertical-align: top;\n",
       "    }\n",
       "\n",
       "    .dataframe thead th {\n",
       "        text-align: right;\n",
       "    }\n",
       "</style>\n",
       "<table border=\"1\" class=\"dataframe\">\n",
       "  <thead>\n",
       "    <tr style=\"text-align: right;\">\n",
       "      <th></th>\n",
       "      <th>tip</th>\n",
       "    </tr>\n",
       "    <tr>\n",
       "      <th>sex</th>\n",
       "      <th></th>\n",
       "    </tr>\n",
       "  </thead>\n",
       "  <tbody>\n",
       "    <tr>\n",
       "      <th>Male</th>\n",
       "      <td>3.089618</td>\n",
       "    </tr>\n",
       "    <tr>\n",
       "      <th>Female</th>\n",
       "      <td>2.833448</td>\n",
       "    </tr>\n",
       "  </tbody>\n",
       "</table>\n",
       "</div>"
      ],
      "text/plain": [
       "             tip\n",
       "sex             \n",
       "Male    3.089618\n",
       "Female  2.833448"
      ]
     },
     "execution_count": 24,
     "metadata": {},
     "output_type": "execute_result"
    }
   ],
   "source": [
    "df.groupby('sex').agg({'tip':'mean'})"
   ]
  },
  {
   "cell_type": "code",
   "execution_count": 25,
   "id": "004c0d26-2375-4fd5-b48b-4d22e6b48d4e",
   "metadata": {},
   "outputs": [
    {
     "data": {
      "text/html": [
       "<div>\n",
       "<style scoped>\n",
       "    .dataframe tbody tr th:only-of-type {\n",
       "        vertical-align: middle;\n",
       "    }\n",
       "\n",
       "    .dataframe tbody tr th {\n",
       "        vertical-align: top;\n",
       "    }\n",
       "\n",
       "    .dataframe thead th {\n",
       "        text-align: right;\n",
       "    }\n",
       "</style>\n",
       "<table border=\"1\" class=\"dataframe\">\n",
       "  <thead>\n",
       "    <tr style=\"text-align: right;\">\n",
       "      <th></th>\n",
       "      <th>tip</th>\n",
       "    </tr>\n",
       "    <tr>\n",
       "      <th>sex</th>\n",
       "      <th></th>\n",
       "    </tr>\n",
       "  </thead>\n",
       "  <tbody>\n",
       "    <tr>\n",
       "      <th>Male</th>\n",
       "      <td>3.089618</td>\n",
       "    </tr>\n",
       "    <tr>\n",
       "      <th>Female</th>\n",
       "      <td>2.833448</td>\n",
       "    </tr>\n",
       "  </tbody>\n",
       "</table>\n",
       "</div>"
      ],
      "text/plain": [
       "             tip\n",
       "sex             \n",
       "Male    3.089618\n",
       "Female  2.833448"
      ]
     },
     "execution_count": 25,
     "metadata": {},
     "output_type": "execute_result"
    }
   ],
   "source": [
    "df.groupby('sex', observed=False).agg({'tip': 'mean'})"
   ]
  },
  {
   "cell_type": "code",
   "execution_count": 26,
   "id": "415343f4-b5cc-4198-bd05-58d7397076c3",
   "metadata": {},
   "outputs": [],
   "source": [
    "df_aggr = df.groupby('sex', observed=False).agg({'tip': 'mean'})"
   ]
  },
  {
   "cell_type": "code",
   "execution_count": 28,
   "id": "e49b275d-ab78-47d8-b880-7060e4272866",
   "metadata": {},
   "outputs": [
    {
     "data": {
      "image/png": "[encoded data removed]",
      "text/plain": [
       "<Figure size 640x480 with 1 Axes>"
      ]
     },
     "metadata": {},
     "output_type": "display_data"
    }
   ],
   "source": [
    "plt.bar(df_aggr.index, df_aggr['tip'])\n",
    "plt.show()"
   ]
  },
  {
   "cell_type": "code",
   "execution_count": null,
   "id": "f8d31dd4-6263-4fe2-94db-c22459966b6b",
   "metadata": {},
   "outputs": [],
   "source": [
    "# Wykres rozrzutu robimy"
   ]
  },
  {
   "cell_type": "code",
   "execution_count": null,
   "id": "80730cc3-31ff-4ea4-b4c7-b71c0a28d763",
   "metadata": {},
   "outputs": [],
   "source": [
    "# Czy występuje zaleznosć między cąłkowitą wartością rachunku a zmienna tip czyli napiwkiem"
   ]
  },
  {
   "cell_type": "code",
   "execution_count": 29,
   "id": "77f05a27-6968-4c1a-b23a-f12d04054326",
   "metadata": {},
   "outputs": [
    {
     "data": {
      "text/html": [
       "<div>\n",
       "<style scoped>\n",
       "    .dataframe tbody tr th:only-of-type {\n",
       "        vertical-align: middle;\n",
       "    }\n",
       "\n",
       "    .dataframe tbody tr th {\n",
       "        vertical-align: top;\n",
       "    }\n",
       "\n",
       "    .dataframe thead th {\n",
       "        text-align: right;\n",
       "    }\n",
       "</style>\n",
       "<table border=\"1\" class=\"dataframe\">\n",
       "  <thead>\n",
       "    <tr style=\"text-align: right;\">\n",
       "      <th></th>\n",
       "      <th>total_bill</th>\n",
       "      <th>tip</th>\n",
       "      <th>sex</th>\n",
       "      <th>smoker</th>\n",
       "      <th>day</th>\n",
       "      <th>time</th>\n",
       "      <th>size</th>\n",
       "    </tr>\n",
       "  </thead>\n",
       "  <tbody>\n",
       "    <tr>\n",
       "      <th>0</th>\n",
       "      <td>16.99</td>\n",
       "      <td>1.01</td>\n",
       "      <td>Female</td>\n",
       "      <td>No</td>\n",
       "      <td>Sun</td>\n",
       "      <td>Dinner</td>\n",
       "      <td>2</td>\n",
       "    </tr>\n",
       "    <tr>\n",
       "      <th>1</th>\n",
       "      <td>10.34</td>\n",
       "      <td>1.66</td>\n",
       "      <td>Male</td>\n",
       "      <td>No</td>\n",
       "      <td>Sun</td>\n",
       "      <td>Dinner</td>\n",
       "      <td>3</td>\n",
       "    </tr>\n",
       "    <tr>\n",
       "      <th>2</th>\n",
       "      <td>21.01</td>\n",
       "      <td>3.50</td>\n",
       "      <td>Male</td>\n",
       "      <td>No</td>\n",
       "      <td>Sun</td>\n",
       "      <td>Dinner</td>\n",
       "      <td>3</td>\n",
       "    </tr>\n",
       "    <tr>\n",
       "      <th>3</th>\n",
       "      <td>23.68</td>\n",
       "      <td>3.31</td>\n",
       "      <td>Male</td>\n",
       "      <td>No</td>\n",
       "      <td>Sun</td>\n",
       "      <td>Dinner</td>\n",
       "      <td>2</td>\n",
       "    </tr>\n",
       "    <tr>\n",
       "      <th>4</th>\n",
       "      <td>24.59</td>\n",
       "      <td>3.61</td>\n",
       "      <td>Female</td>\n",
       "      <td>No</td>\n",
       "      <td>Sun</td>\n",
       "      <td>Dinner</td>\n",
       "      <td>4</td>\n",
       "    </tr>\n",
       "  </tbody>\n",
       "</table>\n",
       "</div>"
      ],
      "text/plain": [
       "   total_bill   tip     sex smoker  day    time  size\n",
       "0       16.99  1.01  Female     No  Sun  Dinner     2\n",
       "1       10.34  1.66    Male     No  Sun  Dinner     3\n",
       "2       21.01  3.50    Male     No  Sun  Dinner     3\n",
       "3       23.68  3.31    Male     No  Sun  Dinner     2\n",
       "4       24.59  3.61  Female     No  Sun  Dinner     4"
      ]
     },
     "execution_count": 29,
     "metadata": {},
     "output_type": "execute_result"
    }
   ],
   "source": [
    "df.head()"
   ]
  },
  {
   "cell_type": "code",
   "execution_count": 30,
   "id": "2a7d59cf-d194-44ca-987c-762e693a0984",
   "metadata": {},
   "outputs": [
    {
     "data": {
      "image/png": "[encoded data removed]",
      "text/plain": [
       "<Figure size 640x480 with 1 Axes>"
      ]
     },
     "metadata": {},
     "output_type": "display_data"
    }
   ],
   "source": [
    "plt.scatter(df['total_bill'], df['tip'])\n",
    "plt.show()"
   ]
  },
  {
   "cell_type": "code",
   "execution_count": 32,
   "id": "7650e5a9-922d-4057-a4d3-d95635232f37",
   "metadata": {},
   "outputs": [
    {
     "data": {
      "image/png": "[encoded data removed]",
      "text/plain": [
       "<Figure size 640x480 with 1 Axes>"
      ]
     },
     "metadata": {},
     "output_type": "display_data"
    }
   ],
   "source": [
    "# inny zapis\n",
    "plt.scatter('total_bill', 'tip', data=df)\n",
    "plt.show()"
   ]
  },
  {
   "cell_type": "code",
   "execution_count": null,
   "id": "3dfd52d4-5d5e-4676-bad0-7648c9686505",
   "metadata": {},
   "outputs": [],
   "source": [
    "# Wykres kołowy\n",
    "# jak często klienci odwiedzają retauracje w dane dni"
   ]
  },
  {
   "cell_type": "code",
   "execution_count": 33,
   "id": "71275c29-ed1c-4f68-a991-17303f118d69",
   "metadata": {},
   "outputs": [
    {
     "data": {
      "text/html": [
       "<div>\n",
       "<style scoped>\n",
       "    .dataframe tbody tr th:only-of-type {\n",
       "        vertical-align: middle;\n",
       "    }\n",
       "\n",
       "    .dataframe tbody tr th {\n",
       "        vertical-align: top;\n",
       "    }\n",
       "\n",
       "    .dataframe thead th {\n",
       "        text-align: right;\n",
       "    }\n",
       "</style>\n",
       "<table border=\"1\" class=\"dataframe\">\n",
       "  <thead>\n",
       "    <tr style=\"text-align: right;\">\n",
       "      <th></th>\n",
       "      <th>total_bill</th>\n",
       "      <th>tip</th>\n",
       "      <th>sex</th>\n",
       "      <th>smoker</th>\n",
       "      <th>day</th>\n",
       "      <th>time</th>\n",
       "      <th>size</th>\n",
       "    </tr>\n",
       "  </thead>\n",
       "  <tbody>\n",
       "    <tr>\n",
       "      <th>0</th>\n",
       "      <td>16.99</td>\n",
       "      <td>1.01</td>\n",
       "      <td>Female</td>\n",
       "      <td>No</td>\n",
       "      <td>Sun</td>\n",
       "      <td>Dinner</td>\n",
       "      <td>2</td>\n",
       "    </tr>\n",
       "    <tr>\n",
       "      <th>1</th>\n",
       "      <td>10.34</td>\n",
       "      <td>1.66</td>\n",
       "      <td>Male</td>\n",
       "      <td>No</td>\n",
       "      <td>Sun</td>\n",
       "      <td>Dinner</td>\n",
       "      <td>3</td>\n",
       "    </tr>\n",
       "    <tr>\n",
       "      <th>2</th>\n",
       "      <td>21.01</td>\n",
       "      <td>3.50</td>\n",
       "      <td>Male</td>\n",
       "      <td>No</td>\n",
       "      <td>Sun</td>\n",
       "      <td>Dinner</td>\n",
       "      <td>3</td>\n",
       "    </tr>\n",
       "    <tr>\n",
       "      <th>3</th>\n",
       "      <td>23.68</td>\n",
       "      <td>3.31</td>\n",
       "      <td>Male</td>\n",
       "      <td>No</td>\n",
       "      <td>Sun</td>\n",
       "      <td>Dinner</td>\n",
       "      <td>2</td>\n",
       "    </tr>\n",
       "    <tr>\n",
       "      <th>4</th>\n",
       "      <td>24.59</td>\n",
       "      <td>3.61</td>\n",
       "      <td>Female</td>\n",
       "      <td>No</td>\n",
       "      <td>Sun</td>\n",
       "      <td>Dinner</td>\n",
       "      <td>4</td>\n",
       "    </tr>\n",
       "  </tbody>\n",
       "</table>\n",
       "</div>"
      ],
      "text/plain": [
       "   total_bill   tip     sex smoker  day    time  size\n",
       "0       16.99  1.01  Female     No  Sun  Dinner     2\n",
       "1       10.34  1.66    Male     No  Sun  Dinner     3\n",
       "2       21.01  3.50    Male     No  Sun  Dinner     3\n",
       "3       23.68  3.31    Male     No  Sun  Dinner     2\n",
       "4       24.59  3.61  Female     No  Sun  Dinner     4"
      ]
     },
     "execution_count": 33,
     "metadata": {},
     "output_type": "execute_result"
    }
   ],
   "source": [
    "df.head()"
   ]
  },
  {
   "cell_type": "code",
   "execution_count": null,
   "id": "9ff95e14-ffb3-4eae-b502-8e67f56582ef",
   "metadata": {},
   "outputs": [],
   "source": [
    "# Wykres kołowy jeden argument mówiacy o wartościach można wykorzystac value_counts"
   ]
  },
  {
   "cell_type": "code",
   "execution_count": 34,
   "id": "1d397344-1777-43a0-abd6-d72aece957c5",
   "metadata": {},
   "outputs": [
    {
     "data": {
      "image/png": "[encoded data removed]",
      "text/plain": [
       "<Figure size 640x480 with 1 Axes>"
      ]
     },
     "metadata": {},
     "output_type": "display_data"
    }
   ],
   "source": [
    "plt.pie(df['day'].value_counts())\n",
    "plt.show()"
   ]
  },
  {
   "cell_type": "code",
   "execution_count": null,
   "id": "4eb366a2-3a00-4ff3-bfbe-33b05d8342d1",
   "metadata": {},
   "outputs": [],
   "source": [
    "# aby widzieć etykiety trzeba dodać argument labels"
   ]
  },
  {
   "cell_type": "code",
   "execution_count": null,
   "id": "46686c59-7f0d-4207-b8f4-41b6b789ff5b",
   "metadata": {},
   "outputs": [],
   "source": [
    "# etykiety ->df['day'].value_counts().index"
   ]
  },
  {
   "cell_type": "code",
   "execution_count": 35,
   "id": "4c43989e-3e00-48f1-8584-8a0a83b43c29",
   "metadata": {},
   "outputs": [
    {
     "data": {
      "image/png": "[encoded data removed]",
      "text/plain": [
       "<Figure size 640x480 with 1 Axes>"
      ]
     },
     "metadata": {},
     "output_type": "display_data"
    }
   ],
   "source": [
    "plt.pie(df['day'].value_counts(), labels=df['day'].value_counts().index)\n",
    "plt.show()"
   ]
  },
  {
   "cell_type": "code",
   "execution_count": null,
   "id": "58932c47-589d-4bad-b5be-cb626d7f5c8e",
   "metadata": {},
   "outputs": [],
   "source": [
    "# dodanie wartości procentowych do wykresu autopct=dwa miejsca po przecinku f=float zmienna precinkowa autopct='%1.2f%%'"
   ]
  },
  {
   "cell_type": "code",
   "execution_count": 39,
   "id": "40bbba0d-cca0-4159-907b-313dfd20c72a",
   "metadata": {},
   "outputs": [
    {
     "data": {
      "image/png": "[encoded data removed]",
      "text/plain": [
       "<Figure size 640x480 with 1 Axes>"
      ]
     },
     "metadata": {},
     "output_type": "display_data"
    }
   ],
   "source": [
    "plt.pie(df['day'].value_counts(), labels=df['day'].value_counts().index, autopct='%1.2f%%')\n",
    "plt.show()"
   ]
  },
  {
   "cell_type": "code",
   "execution_count": null,
   "id": "b3e6e207-57e4-42e9-9368-26fe5d894fcb",
   "metadata": {},
   "outputs": [],
   "source": [
    "# Wykres pudełkowy rozkład zmiennej ilościowej..\n"
   ]
  },
  {
   "cell_type": "code",
   "execution_count": null,
   "id": "cf115773-0045-4c59-bf8a-cea95f4ed02a",
   "metadata": {},
   "outputs": [],
   "source": [
    "# Podajemy argument zmiennej do wizualizacji później pdoajemy nazwę zbioru danych"
   ]
  },
  {
   "cell_type": "code",
   "execution_count": 40,
   "id": "f786cee4-3a09-4b2b-9f14-18a1bec826b2",
   "metadata": {},
   "outputs": [
    {
     "data": {
      "image/png": "[encoded data removed]",
      "text/plain": [
       "<Figure size 640x480 with 1 Axes>"
      ]
     },
     "metadata": {},
     "output_type": "display_data"
    }
   ],
   "source": [
    "plt.boxplot('total_bill', data=df)\n",
    "plt.show()"
   ]
  },
  {
   "cell_type": "code",
   "execution_count": null,
   "id": "568082fe-ab71-4be2-a9b4-b4981fb038d0",
   "metadata": {},
   "outputs": [],
   "source": [
    "# kreska oznacza wartośc drugiego kwartyla czyli medianę. Pudełko to rozkład 50% wartości od środka dół pierwszy kwarty a góra trzeci kwartyl"
   ]
  },
  {
   "cell_type": "code",
   "execution_count": null,
   "id": "e4ae7ed5-4bd0-4b50-8087-6888588899b2",
   "metadata": {},
   "outputs": [],
   "source": [
    "# Kwartyl – jedna z miar położenia obserwacji.\n",
    "\n",
    "    # pierwszy kwartyl (notacja: Q1) = dolny kwartyl = kwantyl rzędu 1/4 = 25% obserwacji jest położonych poniżej = 25. procent\n",
    "    # drugi kwartyl (notacja: Q2) = mediana = kwantyl rzędu 1/2 = dzieli zbiór obserwacji na połowę = 50. procent\n",
    "    # trzeci kwartyl (notacja: Q3) = górny kwartyl = kwantyl rzędu 3/4 = dzieli zbiór obserwacji na dwie części odpowiednio po \n",
    "    # 75% położonych poniżej tego kwartyla i 25% położonych powyżej = 75. procent. \n",
    "    # odległość między góra a dołem pudelka to rozstęp ćwiartkowy/między kwartylowy."
   ]
  },
  {
   "cell_type": "code",
   "execution_count": null,
   "id": "ce78d725-8b0d-4203-846d-67c67dbc28dd",
   "metadata": {},
   "outputs": [],
   "source": [
    "# Górny \"wąs\" to trzeci kwartyl + 1,5 wartości rozstępu ćwiartkowego\n",
    "# Dolny \"wąś\" to pierwszy kwartyl - 1,5 wartości rozstępu ćwiartkowego"
   ]
  },
  {
   "cell_type": "code",
   "execution_count": null,
   "id": "0d0d3871-ba89-4e7f-b153-c61eb4d60727",
   "metadata": {},
   "outputs": [],
   "source": [
    "# Punkty powyżej górnego wąsa to wartości odstające powyżej trzeciego kwartyla plus 1.5 wartości rozstępu ćwiartkowego.\n",
    "# Jak sa punkty poniżej to poniżej pierwszego kwartyla - 1.5 wartości rozstępu ćwiartkowego"
   ]
  },
  {
   "cell_type": "code",
   "execution_count": null,
   "id": "c165fe30-5a26-4243-8689-754c4549e49f",
   "metadata": {},
   "outputs": [],
   "source": []
  },
  {
   "cell_type": "code",
   "execution_count": null,
   "id": "8bf5a19f-b09b-4818-b604-67dd8f661880",
   "metadata": {},
   "outputs": [],
   "source": []
  }
 ],
 "metadata": {
  "kernelspec": {
   "display_name": "Python 3 (ipykernel)",
   "language": "python",
   "name": "python3"
  },
  "language_info": {
   "codemirror_mode": {
    "name": "ipython",
    "version": 3
   },
   "file_extension": ".py",
   "mimetype": "text/x-python",
   "name": "python",
   "nbconvert_exporter": "python",
   "pygments_lexer": "ipython3",
   "version": "3.11.7"
  }
 },
 "nbformat": 4,
 "nbformat_minor": 5
}
